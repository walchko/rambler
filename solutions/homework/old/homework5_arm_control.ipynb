{
 "cells": [
  {
   "cell_type": "markdown",
   "metadata": {},
   "source": [
    "Homework 5: Robot Arm Control\n",
    "\n",
    "Name: who am i?\n",
    "\n",
    "Honor Code: I (above) state ....\n",
    "\n",
    "---"
   ]
  },
  {
   "cell_type": "code",
   "execution_count": 2,
   "metadata": {
    "collapsed": true
   },
   "outputs": [],
   "source": [
    "# import libraries\n",
    "from __future__ import print_function, division"
   ]
  },
  {
   "cell_type": "markdown",
   "metadata": {},
   "source": [
    "## Overview\n",
    "\n",
    "The robot arm is commanded by an ASCII string that looks like this: \"#0 P1000 #1 P2000 T2000\\r\". This string tells servo 0 to set a PWM of 1000 and servo 1 set to a PWM of 2000. The last part of the command `T2000` basically gives a time frame to move the arm to the new position. If we move too fast, we could damage the arm, so we are always going to send the last command as `T2000` since high speed is not important to us. Now this command only moves the first 2 servos, but our arm has 5 degrees of freedom (5 servos), so our command string will contain  5 servo commands and the `T2000` command with a `\\r` on the end.\n",
    "\n",
    "This homework will walk you through building the code to run the robot arm"
   ]
  },
  {
   "cell_type": "markdown",
   "metadata": {},
   "source": [
    "1: Write a function that takes in an angle (degrees or radians, your choice) and returns a string to command 1 servo to that position. There is a linear relationship (i.e., straight line) between angle and PWM.\n",
    "\n",
    "| Angle | PWM  |\n",
    "|-------|------|\n",
    "| 0     | 900  |\n",
    "| 180   | 2100 |\n",
    "\n",
    "```python\n",
    "def deg2pwm(servo_num, angle):\n",
    "    # deg2pwm(3, 20) -> #3 P2000\n",
    "    # your code here\n",
    "```\n",
    "\n",
    "*Hint: If you took ECE231, you did this in the signal conditioning part of the class*"
   ]
  },
  {
   "cell_type": "code",
   "execution_count": null,
   "metadata": {
    "collapsed": true
   },
   "outputs": [],
   "source": []
  },
  {
   "cell_type": "markdown",
   "metadata": {},
   "source": [
    "2: Using the function above, write another function that takes in 5 angles and returns the ASCII command string.\n",
    "\n",
    "```python\n",
    "def command(a, b, c, d, e):\n",
    "    # command(10,20,30,40,50) -> #0 ... T2000\\r\n",
    "    # your code here\n",
    "```\n",
    "\n",
    "*Hint: remember to append T2000\\r on the end*"
   ]
  },
  {
   "cell_type": "code",
   "execution_count": null,
   "metadata": {
    "collapsed": true
   },
   "outputs": [],
   "source": []
  }
 ],
 "metadata": {
  "kernelspec": {
   "display_name": "Python 2",
   "language": "python",
   "name": "python2"
  },
  "language_info": {
   "codemirror_mode": {
    "name": "ipython",
    "version": 2
   },
   "file_extension": ".py",
   "mimetype": "text/x-python",
   "name": "python",
   "nbconvert_exporter": "python",
   "pygments_lexer": "ipython2",
   "version": "2.7.13"
  }
 },
 "nbformat": 4,
 "nbformat_minor": 2
}
