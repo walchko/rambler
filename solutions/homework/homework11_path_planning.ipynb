{
 "cells": [
  {
   "cell_type": "markdown",
   "metadata": {},
   "source": [
    "# Computer Exercise 11: Path Planning\n",
    "\n",
    "Honor Code:\n",
    "\n",
    "Blah ...\n",
    "\n",
    "Help received from:\n",
    "\n",
    "- None\n",
    "\n",
    "Team members:\n",
    "\n",
    "- Kevin Walchko"
   ]
  },
  {
   "cell_type": "code",
   "execution_count": 1,
   "metadata": {
    "collapsed": true
   },
   "outputs": [],
   "source": [
    "%matplotlib inline"
   ]
  },
  {
   "cell_type": "code",
   "execution_count": 2,
   "metadata": {
    "collapsed": true
   },
   "outputs": [],
   "source": [
    "from __future__ import division, print_function\n",
    "import matplotlib.pyplot as plt"
   ]
  },
  {
   "cell_type": "code",
   "execution_count": 3,
   "metadata": {
    "collapsed": true
   },
   "outputs": [],
   "source": [
    "def a_star(grid,init,goal,cost,heuristic):\n",
    "    # ----------------------------------------\n",
    "    # modify the code below\n",
    "    # ----------------------------------------\n",
    "    closed = [[0 for col in range(len(grid[0]))] for row in range(len(grid))]\n",
    "    closed[init[0]][init[1]] = 1\n",
    "\n",
    "    expand = [[-1 for col in range(len(grid[0]))] for row in range(len(grid))]\n",
    "    action = [[-1 for col in range(len(grid[0]))] for row in range(len(grid))]\n",
    "    \n",
    "    \n",
    "    delta = [[-1, 0], # go up\n",
    "             [ 0,-1], # go left\n",
    "             [ 1, 0], # go down\n",
    "             [ 0, 1]] # go right\n",
    "\n",
    "    x, y = init\n",
    "    g = 0\n",
    "    h = heuristic[x][y]\n",
    "    f = g + h\n",
    "\n",
    "    open = [[f, g, x, y]]  # add f\n",
    "\n",
    "    found = False  # flag that is set when search is complete\n",
    "    resign = False # flag set if we can't find expand\n",
    "    count = 0\n",
    "    \n",
    "    while not found and not resign:\n",
    "        if len(open) == 0:\n",
    "            resign = True\n",
    "            return \"Fail\"\n",
    "        else:\n",
    "            open.sort()\n",
    "            open.reverse()\n",
    "            next = open.pop()\n",
    "            x = next[2]\n",
    "            y = next[3]\n",
    "            g = next[1]\n",
    "            expand[x][y] = count\n",
    "            count += 1\n",
    "            \n",
    "            if x == goal[0] and y == goal[1]:\n",
    "                found = True\n",
    "            else:\n",
    "                # expand winning element and add to new open list\n",
    "                for i in range(len(delta)):\n",
    "                    x2 = x + delta[i][0]\n",
    "                    y2 = y + delta[i][1]\n",
    "                    # make sure still on map\n",
    "                    if x2 >= 0 and x2 < len(grid) and y2 >=0 and y2 < len(grid[0]):\n",
    "                        # make sure unoccuppied\n",
    "                        if closed[x2][y2] == 0 and grid[x2][y2] == 0:\n",
    "                            g2 = g + cost\n",
    "                            h2 = heuristic[x2][y2]\n",
    "                            f2 = g2 + h2\n",
    "                            open.append([f2, g2, x2, y2])\n",
    "                            closed[x2][y2] = 1\n",
    "\n",
    "    return expand"
   ]
  },
  {
   "cell_type": "code",
   "execution_count": 4,
   "metadata": {
    "collapsed": true
   },
   "outputs": [],
   "source": [
    "def calcHeuristic(grid, goal):\n",
    "    \"\"\"\n",
    "    Basically calculates a gradient decent from a given\n",
    "    goal point.\n",
    "    \"\"\"\n",
    "    w = len(grid[0])  # width\n",
    "    h = len(grid)     # height\n",
    "    hr = [[(abs(goal[1]-y)+abs(goal[0]-x)) for y in range(w)] for x in range(h)]\n",
    "    return hr"
   ]
  },
  {
   "cell_type": "code",
   "execution_count": 12,
   "metadata": {
    "collapsed": true
   },
   "outputs": [],
   "source": [
    "from __future__ import division, print_function\n",
    "import matplotlib.pyplot as plt\n",
    "\n",
    "def putPathMap(grid, path, clear=0, closed=2, travel=1):\n",
    "    # copy map\n",
    "    ret = [[(clear if grid[col][row] == 0 else closed) for row in range(len(grid[0]))] for col in range(len(grid))]\n",
    "    \n",
    "    # plot path on map\n",
    "    for x, y in path:\n",
    "        ret[x][y] = travel\n",
    "    return ret\n",
    "\n",
    "\n",
    "# make pretty plots\n",
    "def matShow(grid, title=None, cmap=None, path=None):\n",
    "    if path:\n",
    "        path = putPathMap(path)\n",
    "    rows = len(grid)\n",
    "    cols = len(grid[0])\n",
    "    \n",
    "    colorbar = True\n",
    "    if cmap is None:\n",
    "        cmap = 'binary'\n",
    "        colorbar = False\n",
    "    plt.matshow(grid, cmap=plt.get_cmap(cmap))\n",
    "    if title:\n",
    "        plt.title(title + ' [{} x {}]'.format(rows, cols))\n",
    "    else:\n",
    "        plt.title('[{} x {}]'.format(rows, cols))\n",
    "    plt.xticks(())\n",
    "    plt.yticks(());\n",
    "    if colorbar:\n",
    "        plt.colorbar();\n",
    "\n",
    "        \n",
    "def getPath(expand, goal, start, wall=-1):\n",
    "    path = []\n",
    "    x, y = goal\n",
    "    val = expand[x][y]\n",
    "    delta = [\n",
    "        [-1, 0 ], # go up\n",
    "        [ 0, -1], # go left\n",
    "        [ 1, 0 ], # go down\n",
    "        [ 0, 1 ]  # go right\n",
    "    ]\n",
    "    done = False\n",
    "    max_x_grid = len(grid)\n",
    "    max_y_grid = len(grid[0])\n",
    "    \n",
    "    path.append(goal)\n",
    "    \n",
    "    while not done:\n",
    "        vals = []\n",
    "        for move in delta:\n",
    "            x2, y2 = x + move[0], y + move[1]\n",
    "            # make sure still on map\n",
    "            if x2 >= 0 and x2 < max_x_grid and y2 >=0 and y2 < max_y_grid:\n",
    "                if expand[x2][y2] > wall:  # don't travel through walls\n",
    "                    val = expand[x2][y2]\n",
    "                    vals.append((val, move))\n",
    "\n",
    "        lowest = 100000\n",
    "        for v, m in vals:\n",
    "            if v < lowest:\n",
    "                move = m\n",
    "                lowest = v\n",
    "\n",
    "        x, y = x + move[0], y + move[1]\n",
    "        path.append([x, y])\n",
    "        \n",
    "        if x == start[0] and y == start[1]:\n",
    "            done = True\n",
    "        \n",
    "    return path"
   ]
  },
  {
   "cell_type": "code",
   "execution_count": 11,
   "metadata": {},
   "outputs": [
    {
     "name": "stdout",
     "output_type": "stream",
     "text": [
      "------------------------------------------------------------\n",
      "start [0, 0]\n",
      "goal [5, 8]\n"
     ]
    },
    {
     "data": {
      "image/png": "[encoded data removed]",
      "text/plain": [
       "<matplotlib.figure.Figure at 0x7f75780>"
      ]
     },
     "metadata": {},
     "output_type": "display_data"
    },
    {
     "data": {
      "image/png": "[encoded data removed]",
      "text/plain": [
       "<matplotlib.figure.Figure at 0x7f75390>"
      ]
     },
     "metadata": {},
     "output_type": "display_data"
    },
    {
     "data": {
      "image/png": "[encoded data removed]",
      "text/plain": [
       "<matplotlib.figure.Figure at 0x806ce48>"
      ]
     },
     "metadata": {},
     "output_type": "display_data"
    },
    {
     "data": {
      "image/png": "[encoded data removed]",
      "text/plain": [
       "<matplotlib.figure.Figure at 0x806c128>"
      ]
     },
     "metadata": {},
     "output_type": "display_data"
    }
   ],
   "source": [
    "grid = [[0, 0, 0, 0, 0, 0, 0, 0, 0, 0, 0, 0],\n",
    "        [0, 1, 0, 1, 1, 1, 0, 1, 0, 0, 0, 0],\n",
    "        [0, 1, 1, 1, 0, 0, 0, 1, 0, 0, 0, 0],\n",
    "        [0, 1, 0, 0, 0, 0, 0, 1, 0, 0, 0, 0],\n",
    "        [0, 0, 0, 0, 1, 0, 0, 0, 0, 0, 0, 1],\n",
    "        [0, 1, 0, 1, 1, 1, 0, 0, 0, 0, 1, 0],\n",
    "        [0, 1, 1, 1, 0, 0, 0, 0, 0, 1, 0, 0],\n",
    "        [0, 1, 0, 0, 0, 0, 0, 0, 0, 0, 0, 0]\n",
    "]\n",
    "\n",
    "matShow(grid, 'Map')\n",
    "\n",
    "cost = 1\n",
    "init = [0,0]\n",
    "goal = [5,8]\n",
    "heuristic = calcHeuristic(grid, goal)\n",
    "matShow(heuristic, 'heuristic')\n",
    "\n",
    "\n",
    "# go back to the preivous simple search\n",
    "# h_empty = [[0 for row in range(len(grid[0]))] for col in range(len(grid))]\n",
    "# heuristic = h_empty\n",
    "\n",
    "ans = a_star(grid,init,goal,cost,heuristic)\n",
    "matShow(ans, 'A* Search')\n",
    "print('-'*60)\n",
    "print('start', init)\n",
    "print('goal', goal)\n",
    "path = getPath(ans, goal, init)\n",
    "ans = putPathMap(grid, path)\n",
    "matShow(ans, 'Path through Map')"
   ]
  },
  {
   "cell_type": "markdown",
   "metadata": {},
   "source": [
    "1. Did A Star search the entire map? No\n",
    "2. What happens if you set the heuristic to all 0's? It acts like the simple search and bruit for wanders through the map until it finds the end.\n",
    "3. Plot the path through the map using a heuristic of all 0's. See below\n",
    "4. Now test what happens when you set the heuristic to a random number. Use random.randint(0,50) to randomly pick your heuristic value. See below"
   ]
  },
  {
   "cell_type": "code",
   "execution_count": 22,
   "metadata": {},
   "outputs": [
    {
     "name": "stdout",
     "output_type": "stream",
     "text": [
      "------------------------------------------------------------\n",
      "start [0, 0]\n",
      "goal [5, 8]\n"
     ]
    },
    {
     "data": {
      "image/png": "[encoded data removed]",
      "text/plain": [
       "<matplotlib.figure.Figure at 0x7acedd8>"
      ]
     },
     "metadata": {},
     "output_type": "display_data"
    },
    {
     "data": {
      "image/png": "[encoded data removed]",
      "text/plain": [
       "<matplotlib.figure.Figure at 0x7992978>"
      ]
     },
     "metadata": {},
     "output_type": "display_data"
    }
   ],
   "source": [
    "# go back to the preivous simple search\n",
    "h_empty = [[0 for row in range(len(grid[0]))] for col in range(len(grid))]\n",
    "heuristic = h_empty\n",
    "\n",
    "ans = a_star(grid,init,goal,cost,heuristic)\n",
    "matShow(ans, 'A* Search with heuristic=0')\n",
    "print('-'*60)\n",
    "print('start', init)\n",
    "print('goal', goal)\n",
    "path = getPath(ans, goal, init)\n",
    "ans = putPathMap(grid, path)\n",
    "matShow(ans, 'Path through Map')"
   ]
  },
  {
   "cell_type": "code",
   "execution_count": 25,
   "metadata": {},
   "outputs": [
    {
     "name": "stdout",
     "output_type": "stream",
     "text": [
      "------------------------------------------------------------\n",
      "start [0, 0]\n",
      "goal [5, 8]\n"
     ]
    },
    {
     "data": {
      "image/png": "[encoded data removed]",
      "text/plain": [
       "<matplotlib.figure.Figure at 0x8b6f630>"
      ]
     },
     "metadata": {},
     "output_type": "display_data"
    },
    {
     "data": {
      "image/png": "[encoded data removed]",
      "text/plain": [
       "<matplotlib.figure.Figure at 0x8b6fdd8>"
      ]
     },
     "metadata": {},
     "output_type": "display_data"
    }
   ],
   "source": [
    "# go back to the preivous simple search\n",
    "import random\n",
    "h_empty = [[random.randint(0,50) for row in range(len(grid[0]))] for col in range(len(grid))]\n",
    "heuristic = h_empty\n",
    "\n",
    "ans = a_star(grid,init,goal,cost,heuristic)\n",
    "matShow(ans, 'A* Search with heuristic=random')\n",
    "print('-'*60)\n",
    "print('start', init)\n",
    "print('goal', goal)\n",
    "path = getPath(ans, goal, init)\n",
    "ans = putPathMap(grid, path)\n",
    "matShow(ans, 'Path through Map')"
   ]
  },
  {
   "cell_type": "code",
   "execution_count": null,
   "metadata": {},
   "outputs": [],
   "source": []
  },
  {
   "cell_type": "code",
   "execution_count": null,
   "metadata": {
    "collapsed": true
   },
   "outputs": [],
   "source": []
  }
 ],
 "metadata": {
  "kernelspec": {
   "display_name": "Python 2",
   "language": "python",
   "name": "python2"
  },
  "language_info": {
   "codemirror_mode": {
    "name": "ipython",
    "version": 2
   },
   "file_extension": ".py",
   "mimetype": "text/x-python",
   "name": "python",
   "nbconvert_exporter": "python",
   "pygments_lexer": "ipython2",
   "version": "2.7.13"
  }
 },
 "nbformat": 4,
 "nbformat_minor": 2
}
