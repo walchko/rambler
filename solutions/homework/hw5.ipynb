{
 "cells": [
  {
   "cell_type": "markdown",
   "metadata": {},
   "source": [
    "# HW 5"
   ]
  },
  {
   "cell_type": "code",
   "execution_count": 1,
   "metadata": {},
   "outputs": [],
   "source": [
    "from __future__ import division\n",
    "from __future__ import print_function\n",
    "import serial\n",
    "from math import atan2, acos, sqrt, pi, cos, sin\n",
    "from math import radians as deg2rad\n",
    "from math import degrees as rad2deg"
   ]
  },
  {
   "cell_type": "markdown",
   "metadata": {},
   "source": [
    "# Inverse Code\n",
    "\n",
    "Below is my class I made for the arm. They do not have to do a class. I also had to comment out the serial commands ... just ignore them.\n",
    "\n",
    "<img src=\"cos-law.png\" width=\"50%\">"
   ]
  },
  {
   "cell_type": "code",
   "execution_count": 6,
   "metadata": {},
   "outputs": [],
   "source": [
    "def cosine_law(a, b, c, phase=False):\n",
    "    \"\"\"\n",
    "    c - opposite side of angle wanted\n",
    "    a,b - sides next to angle wanted\n",
    "    angle - radians\n",
    "    \"\"\"\n",
    "    if phase:\n",
    "        angle = acos((c**2 - (a**2 + b**2))/(2*a*b))\n",
    "    else:\n",
    "        angle = acos((c**2 - (a**2 + b**2))/(-2*a*b))\n",
    "\n",
    "    return angle"
   ]
  },
  {
   "cell_type": "code",
   "execution_count": 9,
   "metadata": {},
   "outputs": [],
   "source": [
    "def mag(a, b, c=0):\n",
    "    return sqrt(a**2 + b**2 + c**2)\n",
    "\n",
    "\n",
    "class Arm(object):\n",
    "    CLAW_OPEN = 0\n",
    "    CLAW_GRAB = 90\n",
    "    CLAW_CLOSED = 180\n",
    "\n",
    "    def __init__(self, port, pwm=[800, 2300]):\n",
    "        self.pwm = pwm\n",
    "\n",
    "        # calculate angle2pwm coefficients\n",
    "        servo_range = [0, 180]\n",
    "        self.slope = (self.pwm[1] - self.pwm[0])/(servo_range[1] - servo_range[0])\n",
    "        self.intercept = self.pwm[0] - self.slope * servo_range[0]\n",
    "\n",
    "#         self.ser = serial.Serial(port, 115200)\n",
    "#         if not self.ser.isOpen():\n",
    "#             raise Exception('Arm::init() could not open', port)\n",
    "#         else:\n",
    "#             print('Arm opened {} @ 115200'.format(port))\n",
    "\n",
    "#     def __del__(self):\n",
    "#         time.sleep(3)\n",
    "#         self.ser.close()\n",
    "#         time.sleep(0.01)\n",
    "\n",
    "    def angle2pwm(self, angle):\n",
    "        \"\"\"\n",
    "        angle: servo angle in radians\n",
    "        return: servo pwm\n",
    "        \"\"\"\n",
    "        angle *= 180/pi\n",
    "        pwm = self.slope * angle + self.intercept\n",
    "\n",
    "        # if self.pwm[0] > pwm < self.pwm[1]:\n",
    "        # \tprint('ERROR: {} out of limits {}'.format(pwm, self.pwm))\n",
    "        # \traise Exception('PWM value out of range')\n",
    "        return int(pwm)\n",
    "\n",
    "    def send(self, angles, cmdSleep=3, speed=2500):\n",
    "        \"\"\"\n",
    "        Converts an array of angles to the servo board command string.\n",
    "        ex: '#0 P1500 #1 P1500 #2 P1500 #3 P1500 #4 P1500 T2500\\r'\n",
    "\n",
    "        angles: array of arm angles\n",
    "        \"\"\"\n",
    "        # correct dh frame and servo angles\n",
    "#         angles[3] += pi/2  # angles - wrist correction\n",
    "#         angles[0] += pi/2  # base correction\n",
    "\n",
    "        # cmd = '#0 P1500 #1 P1500 #2 P1500 #3 P1500 #4 P1500 T4000\\r'\n",
    "        cmd = []\n",
    "        for channel, a in enumerate(angles):\n",
    "            pwm = self.angle2pwm(a)\n",
    "            if self.pwm[0] > pwm < self.pwm[1]:\n",
    "                print('ERROR: servo[{}] PWM{} out of limits {}'.format(channel, self.pwm, pwm))\n",
    "                raise Exception('PWM value out of range')\n",
    "            cmd.append('#{} P{}'.format(channel, pwm))\n",
    "        cmd.append('T{}\\r'.format(speed))\n",
    "        cmd = ' '.join(cmd)\n",
    "\n",
    "        print('[Move] ---------------------------')\n",
    "        aa = [x*180/pi for x in angles]  # convert to degrees\n",
    "        print('  angles: {:6.0f} {:6.0f} {:6.0f} {:6.0f}'.format(*aa[:4]))\n",
    "        print('  claw: {}'.format('open' if aa[4] == 0 else 'closed'))\n",
    "        print('  cmd: {}\\n'.format(cmd))\n",
    "\n",
    "#         self.ser.write(cmd)\n",
    "#         time.sleep(speed/1000)\n",
    "\n",
    "    def inverse(self, x, y, z, orient, claw=0):\n",
    "        \"\"\"\n",
    "        Calculates inverse kinematics\n",
    "        given: (x,y,z) in 3D space and claw open/closed\n",
    "        \"\"\"\n",
    "        l1 = 5.75\n",
    "        l2 = 7.375\n",
    "        l3 = 3.375\n",
    "\n",
    "        # check workspace constraints\n",
    "        if z < 0:\n",
    "            raise Exception('z in ground')\n",
    "        elif mag(x, y, z) > (l1 + l2 + l3):\n",
    "            raise Exception('out of reach {} > {}'.format(mag(x, y, z), (l1 + l2 + l3)))\n",
    "\n",
    "        # get x-y plane azimuth\n",
    "        t1 = atan2(y, x)\n",
    "\n",
    "        # Now, most of the arm operates in the w-z frame\n",
    "        w = mag(x, y)   # new frame axis\n",
    "        gamma = atan2(z, w)\n",
    "        r = mag(z, w)\n",
    "\n",
    "        c = mag(w-l3*cos(orient), z-l3*sin(orient))\n",
    "\n",
    "        t3 = cosine_law(l1, l2, c, True)\n",
    "\n",
    "        d = cosine_law(l2, c, l1)\n",
    "        e = cosine_law(c, l3, r)\n",
    "        t4 = pi - d - e\n",
    "\n",
    "        alpha = cosine_law(l1, c, l2)\n",
    "        beta = cosine_law(c, r, l3)\n",
    "\n",
    "        t2 = alpha + beta + gamma\n",
    "\n",
    "        return [t1, t2, t3, t4, claw*pi/180]\n",
    "\n",
    "    def calibrate(self):\n",
    "        pass\n",
    "\n",
    "    def move_arm_angles(self, angles):\n",
    "        for a in angles:\n",
    "            a = [pi/180*x for x in a]\n",
    "            self.send(a)\n",
    "\n",
    "    def move_arm_points(self, points):\n",
    "        for pt in points:\n",
    "            angles = self.inverse(*pt)\n",
    "            self.send(angles)"
   ]
  },
  {
   "cell_type": "code",
   "execution_count": 10,
   "metadata": {},
   "outputs": [
    {
     "name": "stdout",
     "output_type": "stream",
     "text": [
      "angle 1281\n"
     ]
    }
   ],
   "source": [
    "arm = Arm('hi', [900, 2100])"
   ]
  },
  {
   "cell_type": "code",
   "execution_count": 20,
   "metadata": {},
   "outputs": [
    {
     "name": "stdout",
     "output_type": "stream",
     "text": [
      "angle 1663\n",
      "angle 1281\n"
     ]
    }
   ],
   "source": [
    "# example\n",
    "angle = arm.angle2pwm(2)\n",
    "print('angle', angle)\n",
    "\n",
    "# 1\n",
    "angle = arm.angle2pwm(1)\n",
    "print('angle', angle)"
   ]
  },
  {
   "cell_type": "code",
   "execution_count": 21,
   "metadata": {},
   "outputs": [
    {
     "name": "stdout",
     "output_type": "stream",
     "text": [
      "[Move] ---------------------------\n",
      "  angles:     57    115    172    115\n",
      "  claw: closed\n",
      "  cmd: #0 P1281 #1 P1663 #2 P2045 #3 P1663 #4 P1281 T2500\r\n",
      "\n",
      "[Move] ---------------------------\n",
      "  angles:    172    115     57    115\n",
      "  claw: closed\n",
      "  cmd: #0 P2045 #1 P1663 #2 P1281 #3 P1663 #4 P2045 T2500\r\n",
      "\n"
     ]
    }
   ],
   "source": [
    "# 2\n",
    "arm.send([1,2,3,2,1])  # test\n",
    "arm.send([3,2,1,2,3])  # answer"
   ]
  },
  {
   "cell_type": "code",
   "execution_count": 15,
   "metadata": {},
   "outputs": [
    {
     "name": "stdout",
     "output_type": "stream",
     "text": [
      "rads 1.0471975512\n",
      "degs 60.0\n"
     ]
    }
   ],
   "source": [
    "# equalateral triangle\n",
    "angle = cosine_law(3,3,3)\n",
    "print('rads', angle)\n",
    "print('degs', angle*180/pi)"
   ]
  },
  {
   "cell_type": "code",
   "execution_count": 14,
   "metadata": {},
   "outputs": [
    {
     "name": "stdout",
     "output_type": "stream",
     "text": [
      "rads 0.86321189007\n",
      "degs 49.4583981265\n"
     ]
    }
   ],
   "source": [
    "# question 3\n",
    "angle = cosine_law(2,5,4)\n",
    "print('rads', angle)\n",
    "print('degs', angle*180/pi)"
   ]
  },
  {
   "cell_type": "code",
   "execution_count": 16,
   "metadata": {},
   "outputs": [
    {
     "name": "stdout",
     "output_type": "stream",
     "text": [
      "rads [0.7853981633974483, 3.188227078176998, 2.729144874301295, 0.45908220387570275, 0.0]\n",
      "degrees [45.0, 182.67195570886796, 156.36848297722577, 26.303472731642174, 0.0]\n"
     ]
    }
   ],
   "source": [
    "# given example\n",
    "angs = arm.inverse(3,3,3,0,0)\n",
    "print('rads', angs)\n",
    "angs = map(rad2deg, angs)\n",
    "print('degrees', angs)"
   ]
  },
  {
   "cell_type": "code",
   "execution_count": 18,
   "metadata": {},
   "outputs": [
    {
     "name": "stdout",
     "output_type": "stream",
     "text": [
      "rads [0.9272952180016122, 2.7227631298941644, 2.3535468345770267, 0.3692162953171376, 0.0]\n",
      "degrees [53.13010235415598, 156.00283595676598, 134.84830050763816, 21.154535449127806, 0.0]\n"
     ]
    }
   ],
   "source": [
    "# question 4\n",
    "angs = arm.inverse(3,4,5,pi/2,0)\n",
    "print('rads', angs)\n",
    "angs = map(rad2deg, angs)\n",
    "print('degrees', angs)"
   ]
  },
  {
   "cell_type": "code",
   "execution_count": null,
   "metadata": {},
   "outputs": [],
   "source": []
  },
  {
   "cell_type": "code",
   "execution_count": null,
   "metadata": {},
   "outputs": [],
   "source": []
  }
 ],
 "metadata": {
  "kernelspec": {
   "display_name": "Python 2",
   "language": "python",
   "name": "python2"
  },
  "language_info": {
   "codemirror_mode": {
    "name": "ipython",
    "version": 2
   },
   "file_extension": ".py",
   "mimetype": "text/x-python",
   "name": "python",
   "nbconvert_exporter": "python",
   "pygments_lexer": "ipython2",
   "version": "2.7.14"
  }
 },
 "nbformat": 4,
 "nbformat_minor": 2
}
