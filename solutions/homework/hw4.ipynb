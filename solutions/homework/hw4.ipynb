{
 "cells": [
  {
   "cell_type": "markdown",
   "metadata": {},
   "source": [
    "# HW 4"
   ]
  },
  {
   "cell_type": "code",
   "execution_count": 1,
   "metadata": {},
   "outputs": [],
   "source": [
    "from __future__ import division\n",
    "from __future__ import print_function\n",
    "import sympy\n",
    "from sympy import symbols, sin, cos, pi, simplify\n",
    "import numpy as np"
   ]
  },
  {
   "cell_type": "markdown",
   "metadata": {},
   "source": [
    "# Forward Code\n",
    "\n",
    "1 Transform code (this is given in the lesson)"
   ]
  },
  {
   "cell_type": "code",
   "execution_count": 2,
   "metadata": {},
   "outputs": [],
   "source": [
    "def makeT(theta, alpha, d, a):\n",
    "    # create a modified DH homogenious matrix\n",
    "    # all angular inputs are in radians \n",
    "    return np.array([\n",
    "        [           cos(theta),           -sin(theta),           0,             a],\n",
    "        [sin(theta)*cos(alpha), cos(theta)*cos(alpha), -sin(alpha), -d*sin(alpha)],\n",
    "        [sin(theta)*sin(alpha), cos(theta)*sin(alpha),  cos(alpha),  d*cos(alpha)],\n",
    "        [                    0,                     0,           0,             1]\n",
    "    ])"
   ]
  },
  {
   "cell_type": "code",
   "execution_count": 3,
   "metadata": {},
   "outputs": [
    {
     "name": "stdout",
     "output_type": "stream",
     "text": [
      "Translation:\n",
      " 5 -6*sin(pi/9) 6*cos(pi/9)\n"
     ]
    }
   ],
   "source": [
    "t = makeT(45*pi/180, 20*pi/180, 6, 5)\n",
    "# print('Rotation:\\n', t[:3][:3])\n",
    "print('Translation:\\n', t[0][3], t[1][3], t[2][3])"
   ]
  },
  {
   "cell_type": "code",
   "execution_count": 7,
   "metadata": {},
   "outputs": [
    {
     "name": "stdout",
     "output_type": "stream",
     "text": [
      "[5, -2.0521208599540124, 5.638155724715451]\n"
     ]
    }
   ],
   "source": [
    "import math\n",
    "a = [5, -6*math.sin(math.pi/9), 6*math.cos(math.pi/9)]\n",
    "print(a)"
   ]
  },
  {
   "cell_type": "markdown",
   "metadata": {},
   "source": [
    "2 Equations"
   ]
  },
  {
   "cell_type": "code",
   "execution_count": 4,
   "metadata": {},
   "outputs": [],
   "source": [
    "t1, t2, t3, t4 = symbols('t1 t2 t3 t4')\n",
    "a4 = symbols('a4')\n",
    "\n",
    "def forward(params):\n",
    "    T = np.eye(4)\n",
    "    for p in params:\n",
    "        tt, aa, d, a = p\n",
    "        T = T.dot(makeT(tt, aa, d, a))\n",
    "    return T\n",
    "\n",
    "arm = [\n",
    "    [t1, 0, 3, 0],\n",
    "    [t2, 0, 5, 0],\n",
    "    [t3, 0, 0, 2],\n",
    "    [t4, a4, 2, 0]\n",
    "]\n",
    "\n",
    "T = forward(arm)"
   ]
  },
  {
   "cell_type": "code",
   "execution_count": 5,
   "metadata": {},
   "outputs": [
    {
     "name": "stdout",
     "output_type": "stream",
     "text": [
      "[[-1.0*sin(t4)*sin(t1 + t2 + t3)*cos(a4) + 1.0*cos(t4)*cos(t1 + t2 + t3)\n",
      "  -1.0*sin(t4)*cos(t1 + t2 + t3) - 1.0*sin(t1 + t2 + t3)*cos(a4)*cos(t4)\n",
      "  1.0*sin(a4)*sin(t1 + t2 + t3)\n",
      "  2.0*sin(a4)*sin(t1 + t2 + t3) + 2.0*cos(t1 + t2)]\n",
      " [1.0*sin(t4)*cos(a4)*cos(t1 + t2 + t3) + 1.0*sin(t1 + t2 + t3)*cos(t4)\n",
      "  -1.0*sin(t4)*sin(t1 + t2 + t3) + 1.0*cos(a4)*cos(t4)*cos(t1 + t2 + t3)\n",
      "  -1.0*sin(a4)*cos(t1 + t2 + t3)\n",
      "  -2.0*sin(a4)*cos(t1 + t2 + t3) + 2.0*sin(t1 + t2)]\n",
      " [1.0*sin(a4)*sin(t4) 1.0*sin(a4)*cos(t4) 1.0*cos(a4) 2.0*cos(a4) + 8.0]\n",
      " [0 0 0 1.00000000000000]]\n",
      "-------------------------\n",
      "position x: 2.0*sin(a4)*sin(t1 + t2 + t3) + 2.0*cos(t1 + t2)\n",
      "position y: -2.0*sin(a4)*cos(t1 + t2 + t3) + 2.0*sin(t1 + t2)\n",
      "position z: 2.0*cos(a4) + 8.0\n"
     ]
    }
   ],
   "source": [
    "def simplifyT(tt):\n",
    "    \"\"\"\n",
    "    This goes through each element of a matrix and tries to simplify it.\n",
    "    \"\"\"\n",
    "    for i, row in enumerate(tt):\n",
    "        for j, col in enumerate(row):\n",
    "            tt[i,j] = simplify(col)\n",
    "    return tt\n",
    "\n",
    "ans = simplifyT(T)\n",
    "print(ans)\n",
    "print('-'*25)\n",
    "print('position x: {}'.format(ans[0,3]))\n",
    "print('position y: {}'.format(ans[1,3]))\n",
    "print('position z: {}'.format(ans[2,3]))"
   ]
  },
  {
   "cell_type": "code",
   "execution_count": null,
   "metadata": {},
   "outputs": [],
   "source": []
  }
 ],
 "metadata": {
  "kernelspec": {
   "display_name": "Python 2",
   "language": "python",
   "name": "python2"
  },
  "language_info": {
   "codemirror_mode": {
    "name": "ipython",
    "version": 2
   },
   "file_extension": ".py",
   "mimetype": "text/x-python",
   "name": "python",
   "nbconvert_exporter": "python",
   "pygments_lexer": "ipython2",
   "version": "2.7.14"
  }
 },
 "nbformat": 4,
 "nbformat_minor": 2
}
