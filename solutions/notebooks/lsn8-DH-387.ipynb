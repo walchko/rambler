{
 "cells": [
  {
   "cell_type": "markdown",
   "metadata": {},
   "source": [
    "# Forward/Inverse Kinematics Examples\n",
    "\n",
    "Kevin Walchko\n",
    "Created: 10 July 2017\n",
    "\n",
    "---\n",
    "\n",
    "...\n",
    "\n",
    "## References\n",
    "\n",
    "- [Wikipedia modified DH](https://en.wikipedia.org/wiki/Denavit%E2%80%93Hartenberg_parameters)\n",
    "- [darpa robot challenge](https://www.youtube.com/watch?v=diaZFIUBMBQ)\n",
    "- [darpa robot fails](https://youtu.be/wX0KagJ1du8)\n",
    "\n",
    "## Setup"
   ]
  },
  {
   "cell_type": "code",
   "execution_count": 1,
   "metadata": {
    "collapsed": true
   },
   "outputs": [],
   "source": [
    "%matplotlib inline"
   ]
  },
  {
   "cell_type": "code",
   "execution_count": 44,
   "metadata": {
    "collapsed": true
   },
   "outputs": [],
   "source": [
    "from __future__ import print_function\n",
    "from __future__ import division\n",
    "import numpy as np\n",
    "from sympy import symbols, sin, cos, pi, simplify, trigsimp\n",
    "from math import radians as d2r\n",
    "from math import degrees as r2d\n",
    "from math import atan2, sqrt, acos, fabs\n",
    "from pprint import pprint"
   ]
  },
  {
   "cell_type": "markdown",
   "metadata": {},
   "source": []
  },
  {
   "cell_type": "markdown",
   "metadata": {},
   "source": [
    "# Denavit-Hartenberg (DH)\n",
    "\n",
    "Development of the DH forward kinematics for a robot. We will use the DH method to develop the symbolic equations and use python to simplify them.\n",
    "\n",
    "![](https://upload.wikimedia.org/wikipedia/commons/thumb/d/d8/DHParameter.png/609px-DHParameter.png)\n",
    "\n"
   ]
  },
  {
   "cell_type": "markdown",
   "metadata": {},
   "source": [
    "# Kinematics\n",
    "\n",
    "Robot arms and legs are hard to control (lots of math), but required for most robotic applications.\n",
    "\n",
    "## Coordinate Frames\n",
    "\n",
    "To help, we are going to follow a methodical way to assign coordinate frames to a robot. An example (sort of) is shown below:\n",
    "\n",
    "![](dh_pics/kuka-kr270.png)\n",
    "\n",
    "The KR270 has 6 joints and is a standard industrial type robot for building cars or what not."
   ]
  },
  {
   "cell_type": "markdown",
   "metadata": {
    "collapsed": true
   },
   "source": [
    "## Numerical Forward Kinematics\n",
    "\n",
    "---"
   ]
  },
  {
   "cell_type": "markdown",
   "metadata": {},
   "source": [
    "The following class follows the modified [DH convention](https://en.wikipedia.org/wiki/Denavit%E2%80%93Hartenberg_parameters). Where:\n",
    "\n",
    "| Parameter | Definition|\n",
    "|-----------|-----------|\n",
    "| $\\alpha_i$   | angle about common normal, from old z axis to new z axis (twist)|\n",
    "| $d_i$        | offset along previous z to the common normal |\n",
    "| $\\theta_i$   | angle about previous z, from old x to new x |\n",
    "| $a_i$        | length of the common normal. Assuming a revolute joint, this is the radius about previous z. |"
   ]
  },
  {
   "cell_type": "markdown",
   "metadata": {},
   "source": [
    "Now the transformation matrix ($T$), using modified DH parameters, is given by:\n",
    "\n",
    "$$ T = R_x(\\alpha_{n-1}) D_x(a_{n-1}) R_z(\\theta_n) D_z(d_n) $$\n",
    "\n",
    "We can then turn this into a python class as follows:"
   ]
  },
  {
   "cell_type": "code",
   "execution_count": 102,
   "metadata": {
    "collapsed": true
   },
   "outputs": [],
   "source": [
    "class mDH(object):\n",
    "    \"\"\"\n",
    "    This uses the modified DH parameters\n",
    "    see Craig, eqn (3.6)\n",
    "    \"\"\"\n",
    "    def __init__(self):\n",
    "        pass\n",
    "\n",
    "    def fk(self, params):\n",
    "        t = np.eye(4)\n",
    "        for p in params:\n",
    "            t = t.dot(self.makeT(*p))\n",
    "        return t\n",
    "\n",
    "    def makeT(self, a, alpha, d, theta):\n",
    "#         alpha = d2r(alpha)\n",
    "#         theta = d2r(theta)\n",
    "        return np.array([  # classic DH\n",
    "            [           cos(theta),           -sin(theta),           0,             a],\n",
    "            [sin(theta)*cos(alpha), cos(theta)*cos(alpha), -sin(alpha), -d*sin(alpha)],\n",
    "            [sin(theta)*sin(alpha), cos(theta)*sin(alpha),  cos(alpha),  d*cos(alpha)],\n",
    "            [                    0,                     0,           0,             1]\n",
    "        ])\n",
    "\n",
    "\n",
    "def printT(tt):\n",
    "    R = tt[0:3,0:3]\n",
    "    D = tt[0:3, 3]\n",
    "    print('-'*30)\n",
    "    print('Position:')\n",
    "    print('  x:', D[0])\n",
    "    print('  y:', D[1])\n",
    "    print('  z:', D[2])\n",
    "    # R(n, o, a)\n",
    "    print('-'*30)\n",
    "    print('Orientation')\n",
    "    print('  nx:', R[0,0])\n",
    "    print('  ny:', R[0,1])\n",
    "    print('  nz:', R[0,2])\n",
    "    print('')\n",
    "    print('  ox:', R[1,0])\n",
    "    print('  oy:', R[1,1])\n",
    "    print('  oz:', R[1,2])\n",
    "    print('')\n",
    "    print('  ax:', R[2,0])\n",
    "    print('  ay:', R[2,1])\n",
    "    print('  az:', R[2,2])\n",
    "\n",
    "    \n",
    "def simplifyT(tt):\n",
    "    \n",
    "    for i, row in enumerate(tt):\n",
    "        for j, col in enumerate(row):\n",
    "            tt[i,j] = simplify(col)\n",
    "    return tt"
   ]
  },
  {
   "cell_type": "markdown",
   "metadata": {},
   "source": [
    "## Symbolically Solving Forward Kinematics"
   ]
  },
  {
   "cell_type": "code",
   "execution_count": 31,
   "metadata": {
    "collapsed": true
   },
   "outputs": [],
   "source": [
    "t1, t2, t3 = symbols('t1 t2 t3')\n",
    "L1, L2, L3 = symbols('L1 L2 L3')"
   ]
  },
  {
   "cell_type": "code",
   "execution_count": 4,
   "metadata": {
    "collapsed": true
   },
   "outputs": [],
   "source": [
    "def eval(f, inputs):\n",
    "    \"\"\"\n",
    "    This allows you to simplify the trigonomic mess that kinematics can\n",
    "    create and also substitute in some inputs in the process\n",
    "    \"\"\"\n",
    "    c = []\n",
    "    for i in f:\n",
    "        r = []\n",
    "        for j in i:\n",
    "            tmp = j\n",
    "#             tmp = j.subs(inputs)\n",
    "            # substitute in any in puts if entered\n",
    "#             tmp = tmp.evalf()\n",
    "            # use python symbolic toolbox to simplify the trig mess above \n",
    "            tmp = simplify(tmp)\n",
    "            r.append(tmp)\n",
    "        c.append(r)\n",
    "    return np.array(c)"
   ]
  },
  {
   "cell_type": "markdown",
   "metadata": {},
   "source": [
    "The parameters are:\n",
    "\n",
    "| i |$a_i$        | $\\alpha_i$   | $d_i$   | $theta_i$  |\n",
    "|---|-------------|--------------|---------|------------|\n",
    "| 1 | 0           | 0            | 0       | $\\theta_1$ |\n",
    "| 2 | $L_1$       | 0            | 0       | $\\theta_2$ |\n",
    "| 3 | $L_2$       | 0            | 0       | $\\theta_3$ |\n"
   ]
  },
  {
   "cell_type": "code",
   "execution_count": 55,
   "metadata": {
    "collapsed": true,
    "scrolled": true
   },
   "outputs": [],
   "source": [
    "t1, t2, t3 = symbols('t1 t2 t3')\n",
    "L1, L2, L3 = symbols('L1 L2 L3')\n",
    "# a, alpha, d, theta\n",
    "params = [\n",
    "    [ 0, 0, 0, t1],  # DH parameters for the first link (i.e., the first row in the table above)\n",
    "    [L1, 0, 0, t2],  # 2nd link\n",
    "    [L2, 0, 0, t3]   # 3rd link\n",
    "]\n",
    "dh = mDH()\n",
    "t = dh.fk(params)\n",
    "t = eval(t,[])"
   ]
  },
  {
   "cell_type": "code",
   "execution_count": 56,
   "metadata": {},
   "outputs": [
    {
     "name": "stdout",
     "output_type": "stream",
     "text": [
      "Rotation Matrix:\n",
      "array([[1.0*cos(t1 + t2 + t3), -1.0*sin(t1 + t2 + t3), 0],\n",
      "       [1.0*sin(t1 + t2 + t3), 1.0*cos(t1 + t2 + t3), 0],\n",
      "       [0, 0, 1.00000000000000]], dtype=object)\n",
      "Position:\n",
      "  x: 1.0*L1*cos(t1) + 1.0*L2*cos(t1 + t2)\n",
      "  y: 1.0*L1*sin(t1) + 1.0*L2*sin(t1 + t2)\n",
      "  z: 0\n"
     ]
    }
   ],
   "source": [
    "R = t[0:3,0:3]\n",
    "print('Rotation Matrix:')\n",
    "pprint(R)\n",
    "D = t[0:3, 3]\n",
    "print('Position:')\n",
    "print('  x:', D[0])\n",
    "print('  y:', D[1])\n",
    "print('  z:', D[2])"
   ]
  },
  {
   "cell_type": "code",
   "execution_count": 25,
   "metadata": {
    "collapsed": true
   },
   "outputs": [],
   "source": [
    "# now, if we want better performance, you can just use the above solution\n",
    "# for our forward kinematics instead of building it each time we need it\n",
    "# using the mDH class (which is a lot more computational)\n",
    "def fk(t1, t2, d, L1, L2, L3):\n",
    "    t1 = d2r(t1)  # python uses radians, and typicall we use degrees, so fix it\n",
    "    t2 = d2r(t2)\n",
    "    return np.array([\n",
    "        1.0*L1*cos(t1) + 1.0*L2*cos(t1 + t2) + 1.0*L3*cos(t1 + t2),\n",
    "        1.0*L1*sin(t1) + 1.0*L2*sin(t1 + t2) + 1.0*L3*sin(t1 + t2),\n",
    "        0\n",
    "    ])"
   ]
  },
  {
   "cell_type": "markdown",
   "metadata": {},
   "source": [
    "# Inverse Kinematics\n",
    "\n",
    "\n",
    "---\n"
   ]
  },
  {
   "cell_type": "markdown",
   "metadata": {},
   "source": [
    "Assume the solution is this:\n",
    "\n",
    "$$\n",
    "\\begin{bmatrix}\n",
    "    c_{\\gamma} & -s_{\\gamma} & 0 & x \\\\\n",
    "    s_{\\gamma} & c_{\\gamma} & 0 & y \\\\\n",
    "    0 & 0 & 1 & 0 \\\\\n",
    "    0 & 0 & 0 & 1 \n",
    "\\end{bmatrix}\n",
    "$$\n",
    "\n",
    "Note, that there is simplifications here to make reading/writing these equations easier, such as:\n",
    "\n",
    "$$\n",
    "\\cos(\\theta_1) = c_1 \\\\\n",
    "\\sin(\\theta_1 + \\theta_1) = s_{12}\n",
    "$$\n",
    "\n",
    "Now set the above matrix equal to it, (and following along in Craig, p 110) we get:\n",
    "\n",
    "$$\n",
    "c_{\\gamma} = c_{123} \\\\\n",
    "s_{\\gamma} = s_{123} \\\\\n",
    "x = L1*c_1+L2*c_{12} \\\\\n",
    "y = L1*s_1+L1*s_{12}\n",
    "$$"
   ]
  },
  {
   "cell_type": "code",
   "execution_count": 110,
   "metadata": {
    "collapsed": true
   },
   "outputs": [],
   "source": [
    "def trans(tt):\n",
    "    # calculates the inverse of a tranformation matrix\n",
    "    r = tt[0:3,0:3]\n",
    "    d = tt[0:3, 3]\n",
    "#     print('r', r.transpose())\n",
    "    ret = np.eye(4, dtype=object)\n",
    "    ret[0:3,0:3] = r.transpose()\n",
    "#     rt = r.transpose()\n",
    "#     for i in range(3):\n",
    "#         for j in range(3):\n",
    "#             ret[i,j] = rt[i,j]\n",
    "    ret[0:3,3] = -r.transpose().dot(d)\n",
    "    return ret"
   ]
  },
  {
   "cell_type": "code",
   "execution_count": 88,
   "metadata": {},
   "outputs": [
    {
     "name": "stdout",
     "output_type": "stream",
     "text": [
      "[[1.0*cos(t1 + t2 + t3) -1.0*sin(t1 + t2 + t3) 0\n",
      "  1.0*L1*cos(t1) + 1.0*L2*cos(t1 + t2)]\n",
      " [1.0*sin(t1 + t2 + t3) 1.0*cos(t1 + t2 + t3) 0\n",
      "  1.0*L1*sin(t1) + 1.0*L2*sin(t1 + t2)]\n",
      " [0 0 1.00000000000000 0]\n",
      " [0 0 0 1.00000000000000]]\n",
      "--------------------\n",
      "[[1.0*cos(t1 + t2 + t3) 1.0*sin(t1 + t2 + t3) 0\n",
      "  -1.0*(1.0*L1*sin(t1) + 1.0*L2*sin(t1 + t2))*sin(t1 + t2 + t3) - 1.0*(1.0*L1*cos(t1) + 1.0*L2*cos(t1 + t2))*cos(t1 + t2 + t3)]\n",
      " [-1.0*sin(t1 + t2 + t3) 1.0*cos(t1 + t2 + t3) 0\n",
      "  -1.0*(1.0*L1*sin(t1) + 1.0*L2*sin(t1 + t2))*cos(t1 + t2 + t3) + 1.0*(1.0*L1*cos(t1) + 1.0*L2*cos(t1 + t2))*sin(t1 + t2 + t3)]\n",
      " [0 0 1.00000000000000 0]\n",
      " [0 0 0 1]]\n"
     ]
    }
   ],
   "source": [
    "print(t)\n",
    "print('-'*20)\n",
    "print(trans(t))"
   ]
  },
  {
   "cell_type": "markdown",
   "metadata": {},
   "source": [
    "\n",
    "-----------\n",
    "\n",
    "<a rel=\"license\" href=\"http://creativecommons.org/licenses/by-sa/4.0/\"><img alt=\"Creative Commons License\" style=\"border-width:0\" src=\"https://i.creativecommons.org/l/by-sa/4.0/88x31.png\" /></a><br />This work is licensed under a <a rel=\"license\" href=\"http://creativecommons.org/licenses/by-sa/4.0/\">Creative Commons Attribution-ShareAlike 4.0 International License</a>."
   ]
  }
 ],
 "metadata": {
  "kernelspec": {
   "display_name": "Python 2",
   "language": "python",
   "name": "python2"
  },
  "language_info": {
   "codemirror_mode": {
    "name": "ipython",
    "version": 2
   },
   "file_extension": ".py",
   "mimetype": "text/x-python",
   "name": "python",
   "nbconvert_exporter": "python",
   "pygments_lexer": "ipython2",
   "version": "2.7.14"
  }
 },
 "nbformat": 4,
 "nbformat_minor": 1
}
